{
 "cells": [
  {
   "cell_type": "code",
   "execution_count": 1,
   "metadata": {},
   "outputs": [],
   "source": [
    "# Imports\n",
    "import PyPDF2\n",
    "import os\n",
    "import decimal"
   ]
  },
  {
   "cell_type": "code",
   "execution_count": 2,
   "metadata": {},
   "outputs": [],
   "source": [
    "# Convert PDF to text -- put all in .txt files??\n",
    "# Remove characters that are not letters, numbers, or punctuation\n",
    "  "
   ]
  },
  {
   "cell_type": "code",
   "execution_count": 3,
   "metadata": {},
   "outputs": [],
   "source": [
    "# Create separate directory for text files\n",
    "# basePath = 'C:/Users/micah/Documents/IWU/CIS Practicum/Code/'\n",
    "txtDir = 'Text Files'\n",
    "mkDir = True\n",
    "for entity in os.scandir():\n",
    "    if entity.name == txtDir:\n",
    "        mkDir = False\n",
    "if mkDir:\n",
    "    os.mkdir(txtDir)    "
   ]
  },
  {
   "cell_type": "code",
   "execution_count": 5,
   "metadata": {},
   "outputs": [
    {
     "name": "stdout",
     "output_type": "stream",
     "text": [
      "Now on '00023.pdf' . . .\n"
     ]
    },
    {
     "name": "stderr",
     "output_type": "stream",
     "text": [
      "PdfReadWarning: Xref table not zero-indexed. ID numbers for objects will be corrected. [pdf.py:1736]\n"
     ]
    },
    {
     "name": "stdout",
     "output_type": "stream",
     "text": [
      "Now on '0028_504_uchida_s.pdf' . . .\n",
      "Now on '0044_559_ishitani_y.pdf' . . .\n",
      "Now on '00708543.pdf' . . .\n",
      "Now on '00823977.pdf' . . .\n",
      "Now on '00863988.pdf' . . .\n",
      "Now on '009.pdf' . . .\n",
      "Now on '00969115.pdf' . . .\n",
      "Now on '00a.pdf' . . .\n",
      "Now on '01-Altamura_Esposito_Malerba--Transforming_paper_documents_into_XML_format_with_WISDOM__.pdf' . . .\n",
      "Now on '01046104.pdf' . . .\n",
      "Now on '01217605.pdf' . . .\n",
      "Now on '01237554.pdf' . . .\n",
      "Now on '01308672.pdf' . . .\n",
      "Now on '01673370.pdf' . . .\n",
      "Now on '01_AMI_Alcaniz.pdf' . . .\n",
      "Now on '02_AMI_Riva.pdf' . . .\n",
      "Now on '03_AMI_Gaggioli.pdf' . . .\n",
      "Now on '04100664.pdf' . . .\n",
      "Now on '04359339.pdf' . . .\n",
      "Now on '04407722.pdf' . . .\n",
      "Now on '04_AMI_istag.pdf' . . .\n",
      "Now on '05_AMI_Cortese.pdf' . . .\n",
      "Now on '06_AMI__Piva.pdf' . . .\n",
      "Now on '07_AMI_Kameas.pdf' . . .\n",
      "Now on '08_AMI_Kleiner.pdf' . . .\n",
      "Now on '09.pdf' . . .\n",
      "Now on '09_AMI_Schmidt.pdf' . . .\n",
      "Now on '0e.pdf' . . .\n",
      "Now on '1.pdf' . . .\n",
      "Now on '10.1.1.115.7110.pdf' . . .\n",
      "Now on '10.1.1.123.2158.pdf' . . .\n",
      "Now on '10.1.1.130.6691.pdf' . . .\n",
      "Now on '10.1.1.32.4689.pdf' . . .\n",
      "Now on '10.1.1.62.889.pdf' . . .\n",
      "Now on '10.1.1.65.7635.pdf' . . .\n",
      "Now on '10.1.1.72.8127.pdf' . . .\n",
      "Now on '10.1.1.91.9906.pdf' . . .\n",
      "Now on '10.pdf' . . .\n",
      "Now on '103583991.pdf' . . .\n",
      "Now on '10_AMI_Simplicity.pdf' . . .\n",
      "Now on '11.pdf' . . .\n",
      "Now on '11_AMI_Cantoni.pdf' . . .\n",
      "Now on '12.pdf' . . .\n",
      "Now on '1203.pdf' . . .\n",
      "Now on '122808.pdf' . . .\n",
      "Now on '124972.pdf' . . .\n",
      "Now on '124973.pdf' . . .\n",
      "Now on '124974.pdf' . . .\n",
      "Now on '124977.pdf' . . .\n",
      "Now on '124978.pdf' . . .\n",
      "Now on '124979.pdf' . . .\n",
      "Now on '12628324.pdf' . . .\n",
      "Now on '12_AMI_Bettiol.pdf' . . .\n",
      "Now on '12_steps_paper.pdf' . . .\n",
      "Now on '13.pdf' . . .\n",
      "Now on '1306267704-OptimalExperienceinWorkandLeisure.pdf' . . .\n",
      "Now on '130771.pdf' . . .\n",
      "Now on '1311.2524v5.pdf' . . .\n",
      "Now on '1311.2901v3.pdf' . . .\n",
      "Now on '135706.pdf' . . .\n",
      "Now on '136540.pdf' . . .\n",
      "Now on '136542.pdf' . . .\n",
      "Now on '136543.pdf' . . .\n",
      "Now on '136546.pdf' . . .\n",
      "Now on '136644.pdf' . . .\n",
      "Now on '1369.pdf' . . .\n",
      "Now on '139679.pdf' . . .\n",
      "Now on '139681.pdf' . . .\n",
      "Now on '139682.pdf' . . .\n",
      "Now on '139684.pdf' . . .\n",
      "Now on '139973.pdf' . . .\n",
      "Now on '139978.pdf' . . .\n",
      "Now on '139979.pdf' . . .\n",
      "Now on '13_AMI_Laso.pdf' . . .\n"
     ]
    },
    {
     "ename": "KeyboardInterrupt",
     "evalue": "",
     "output_type": "error",
     "traceback": [
      "\u001b[1;31m---------------------------------------------------------------------------\u001b[0m",
      "\u001b[1;31mKeyboardInterrupt\u001b[0m                         Traceback (most recent call last)",
      "\u001b[1;32m<ipython-input-5-01b327db83a2>\u001b[0m in \u001b[0;36m<module>\u001b[1;34m\u001b[0m\n\u001b[0;32m     19\u001b[0m             \u001b[1;32mwhile\u001b[0m \u001b[0mi\u001b[0m \u001b[1;33m<\u001b[0m \u001b[0mnumPages\u001b[0m\u001b[1;33m:\u001b[0m\u001b[1;33m\u001b[0m\u001b[1;33m\u001b[0m\u001b[0m\n\u001b[0;32m     20\u001b[0m                 \u001b[0mpageObject\u001b[0m \u001b[1;33m=\u001b[0m \u001b[0mpdfReader\u001b[0m\u001b[1;33m.\u001b[0m\u001b[0mgetPage\u001b[0m\u001b[1;33m(\u001b[0m\u001b[0mi\u001b[0m\u001b[1;33m)\u001b[0m\u001b[1;33m\u001b[0m\u001b[1;33m\u001b[0m\u001b[0m\n\u001b[1;32m---> 21\u001b[1;33m                 \u001b[0mtextFile\u001b[0m\u001b[1;33m.\u001b[0m\u001b[0mwrite\u001b[0m\u001b[1;33m(\u001b[0m\u001b[0mpageObject\u001b[0m\u001b[1;33m.\u001b[0m\u001b[0mextractText\u001b[0m\u001b[1;33m(\u001b[0m\u001b[1;33m)\u001b[0m\u001b[1;33m)\u001b[0m\u001b[1;33m\u001b[0m\u001b[1;33m\u001b[0m\u001b[0m\n\u001b[0m\u001b[0;32m     22\u001b[0m                 \u001b[0mi\u001b[0m \u001b[1;33m=\u001b[0m \u001b[0mi\u001b[0m \u001b[1;33m+\u001b[0m \u001b[1;36m1\u001b[0m\u001b[1;33m\u001b[0m\u001b[1;33m\u001b[0m\u001b[0m\n\u001b[0;32m     23\u001b[0m             \u001b[0mtextFile\u001b[0m\u001b[1;33m.\u001b[0m\u001b[0mclose\u001b[0m\u001b[1;33m(\u001b[0m\u001b[1;33m)\u001b[0m\u001b[1;33m\u001b[0m\u001b[1;33m\u001b[0m\u001b[0m\n",
      "\u001b[1;32m~\\AppData\\Local\\Continuum\\anaconda3\\lib\\site-packages\\PyPDF2\\pdf.py\u001b[0m in \u001b[0;36mextractText\u001b[1;34m(self)\u001b[0m\n\u001b[0;32m   2593\u001b[0m         \u001b[0mcontent\u001b[0m \u001b[1;33m=\u001b[0m \u001b[0mself\u001b[0m\u001b[1;33m[\u001b[0m\u001b[1;34m\"/Contents\"\u001b[0m\u001b[1;33m]\u001b[0m\u001b[1;33m.\u001b[0m\u001b[0mgetObject\u001b[0m\u001b[1;33m(\u001b[0m\u001b[1;33m)\u001b[0m\u001b[1;33m\u001b[0m\u001b[1;33m\u001b[0m\u001b[0m\n\u001b[0;32m   2594\u001b[0m         \u001b[1;32mif\u001b[0m \u001b[1;32mnot\u001b[0m \u001b[0misinstance\u001b[0m\u001b[1;33m(\u001b[0m\u001b[0mcontent\u001b[0m\u001b[1;33m,\u001b[0m \u001b[0mContentStream\u001b[0m\u001b[1;33m)\u001b[0m\u001b[1;33m:\u001b[0m\u001b[1;33m\u001b[0m\u001b[1;33m\u001b[0m\u001b[0m\n\u001b[1;32m-> 2595\u001b[1;33m             \u001b[0mcontent\u001b[0m \u001b[1;33m=\u001b[0m \u001b[0mContentStream\u001b[0m\u001b[1;33m(\u001b[0m\u001b[0mcontent\u001b[0m\u001b[1;33m,\u001b[0m \u001b[0mself\u001b[0m\u001b[1;33m.\u001b[0m\u001b[0mpdf\u001b[0m\u001b[1;33m)\u001b[0m\u001b[1;33m\u001b[0m\u001b[1;33m\u001b[0m\u001b[0m\n\u001b[0m\u001b[0;32m   2596\u001b[0m         \u001b[1;31m# Note: we check all strings are TextStringObjects.  ByteStringObjects\u001b[0m\u001b[1;33m\u001b[0m\u001b[1;33m\u001b[0m\u001b[1;33m\u001b[0m\u001b[0m\n\u001b[0;32m   2597\u001b[0m         \u001b[1;31m# are strings where the byte->string encoding was unknown, so adding\u001b[0m\u001b[1;33m\u001b[0m\u001b[1;33m\u001b[0m\u001b[1;33m\u001b[0m\u001b[0m\n",
      "\u001b[1;32m~\\AppData\\Local\\Continuum\\anaconda3\\lib\\site-packages\\PyPDF2\\pdf.py\u001b[0m in \u001b[0;36m__init__\u001b[1;34m(self, stream, pdf)\u001b[0m\n\u001b[0;32m   2672\u001b[0m         \u001b[1;32melse\u001b[0m\u001b[1;33m:\u001b[0m\u001b[1;33m\u001b[0m\u001b[1;33m\u001b[0m\u001b[0m\n\u001b[0;32m   2673\u001b[0m             \u001b[0mstream\u001b[0m \u001b[1;33m=\u001b[0m \u001b[0mBytesIO\u001b[0m\u001b[1;33m(\u001b[0m\u001b[0mb_\u001b[0m\u001b[1;33m(\u001b[0m\u001b[0mstream\u001b[0m\u001b[1;33m.\u001b[0m\u001b[0mgetData\u001b[0m\u001b[1;33m(\u001b[0m\u001b[1;33m)\u001b[0m\u001b[1;33m)\u001b[0m\u001b[1;33m)\u001b[0m\u001b[1;33m\u001b[0m\u001b[1;33m\u001b[0m\u001b[0m\n\u001b[1;32m-> 2674\u001b[1;33m         \u001b[0mself\u001b[0m\u001b[1;33m.\u001b[0m\u001b[0m__parseContentStream\u001b[0m\u001b[1;33m(\u001b[0m\u001b[0mstream\u001b[0m\u001b[1;33m)\u001b[0m\u001b[1;33m\u001b[0m\u001b[1;33m\u001b[0m\u001b[0m\n\u001b[0m\u001b[0;32m   2675\u001b[0m \u001b[1;33m\u001b[0m\u001b[0m\n\u001b[0;32m   2676\u001b[0m     \u001b[1;32mdef\u001b[0m \u001b[0m__parseContentStream\u001b[0m\u001b[1;33m(\u001b[0m\u001b[0mself\u001b[0m\u001b[1;33m,\u001b[0m \u001b[0mstream\u001b[0m\u001b[1;33m)\u001b[0m\u001b[1;33m:\u001b[0m\u001b[1;33m\u001b[0m\u001b[1;33m\u001b[0m\u001b[0m\n",
      "\u001b[1;32m~\\AppData\\Local\\Continuum\\anaconda3\\lib\\site-packages\\PyPDF2\\pdf.py\u001b[0m in \u001b[0;36m__parseContentStream\u001b[1;34m(self, stream)\u001b[0m\n\u001b[0;32m   2704\u001b[0m                     \u001b[0mpeek\u001b[0m \u001b[1;33m=\u001b[0m \u001b[0mstream\u001b[0m\u001b[1;33m.\u001b[0m\u001b[0mread\u001b[0m\u001b[1;33m(\u001b[0m\u001b[1;36m1\u001b[0m\u001b[1;33m)\u001b[0m\u001b[1;33m\u001b[0m\u001b[1;33m\u001b[0m\u001b[0m\n\u001b[0;32m   2705\u001b[0m             \u001b[1;32melse\u001b[0m\u001b[1;33m:\u001b[0m\u001b[1;33m\u001b[0m\u001b[1;33m\u001b[0m\u001b[0m\n\u001b[1;32m-> 2706\u001b[1;33m                 \u001b[0moperands\u001b[0m\u001b[1;33m.\u001b[0m\u001b[0mappend\u001b[0m\u001b[1;33m(\u001b[0m\u001b[0mreadObject\u001b[0m\u001b[1;33m(\u001b[0m\u001b[0mstream\u001b[0m\u001b[1;33m,\u001b[0m \u001b[1;32mNone\u001b[0m\u001b[1;33m)\u001b[0m\u001b[1;33m)\u001b[0m\u001b[1;33m\u001b[0m\u001b[1;33m\u001b[0m\u001b[0m\n\u001b[0m\u001b[0;32m   2707\u001b[0m \u001b[1;33m\u001b[0m\u001b[0m\n\u001b[0;32m   2708\u001b[0m     \u001b[1;32mdef\u001b[0m \u001b[0m_readInlineImage\u001b[0m\u001b[1;33m(\u001b[0m\u001b[0mself\u001b[0m\u001b[1;33m,\u001b[0m \u001b[0mstream\u001b[0m\u001b[1;33m)\u001b[0m\u001b[1;33m:\u001b[0m\u001b[1;33m\u001b[0m\u001b[1;33m\u001b[0m\u001b[0m\n",
      "\u001b[1;32m~\\AppData\\Local\\Continuum\\anaconda3\\lib\\site-packages\\PyPDF2\\generic.py\u001b[0m in \u001b[0;36mreadObject\u001b[1;34m(stream, pdf)\u001b[0m\n\u001b[0;32m     96\u001b[0m             \u001b[1;32mreturn\u001b[0m \u001b[0mIndirectObject\u001b[0m\u001b[1;33m.\u001b[0m\u001b[0mreadFromStream\u001b[0m\u001b[1;33m(\u001b[0m\u001b[0mstream\u001b[0m\u001b[1;33m,\u001b[0m \u001b[0mpdf\u001b[0m\u001b[1;33m)\u001b[0m\u001b[1;33m\u001b[0m\u001b[1;33m\u001b[0m\u001b[0m\n\u001b[0;32m     97\u001b[0m         \u001b[1;32melse\u001b[0m\u001b[1;33m:\u001b[0m\u001b[1;33m\u001b[0m\u001b[1;33m\u001b[0m\u001b[0m\n\u001b[1;32m---> 98\u001b[1;33m             \u001b[1;32mreturn\u001b[0m \u001b[0mNumberObject\u001b[0m\u001b[1;33m.\u001b[0m\u001b[0mreadFromStream\u001b[0m\u001b[1;33m(\u001b[0m\u001b[0mstream\u001b[0m\u001b[1;33m)\u001b[0m\u001b[1;33m\u001b[0m\u001b[1;33m\u001b[0m\u001b[0m\n\u001b[0m\u001b[0;32m     99\u001b[0m \u001b[1;33m\u001b[0m\u001b[0m\n\u001b[0;32m    100\u001b[0m \u001b[1;33m\u001b[0m\u001b[0m\n",
      "\u001b[1;32m~\\AppData\\Local\\Continuum\\anaconda3\\lib\\site-packages\\PyPDF2\\generic.py\u001b[0m in \u001b[0;36mreadFromStream\u001b[1;34m(stream)\u001b[0m\n\u001b[0;32m    267\u001b[0m \u001b[1;33m\u001b[0m\u001b[0m\n\u001b[0;32m    268\u001b[0m     \u001b[1;32mdef\u001b[0m \u001b[0mreadFromStream\u001b[0m\u001b[1;33m(\u001b[0m\u001b[0mstream\u001b[0m\u001b[1;33m)\u001b[0m\u001b[1;33m:\u001b[0m\u001b[1;33m\u001b[0m\u001b[1;33m\u001b[0m\u001b[0m\n\u001b[1;32m--> 269\u001b[1;33m         \u001b[0mnum\u001b[0m \u001b[1;33m=\u001b[0m \u001b[0mutils\u001b[0m\u001b[1;33m.\u001b[0m\u001b[0mreadUntilRegex\u001b[0m\u001b[1;33m(\u001b[0m\u001b[0mstream\u001b[0m\u001b[1;33m,\u001b[0m \u001b[0mNumberObject\u001b[0m\u001b[1;33m.\u001b[0m\u001b[0mNumberPattern\u001b[0m\u001b[1;33m)\u001b[0m\u001b[1;33m\u001b[0m\u001b[1;33m\u001b[0m\u001b[0m\n\u001b[0m\u001b[0;32m    270\u001b[0m         \u001b[1;32mif\u001b[0m \u001b[0mnum\u001b[0m\u001b[1;33m.\u001b[0m\u001b[0mfind\u001b[0m\u001b[1;33m(\u001b[0m\u001b[0mNumberObject\u001b[0m\u001b[1;33m.\u001b[0m\u001b[0mByteDot\u001b[0m\u001b[1;33m)\u001b[0m \u001b[1;33m!=\u001b[0m \u001b[1;33m-\u001b[0m\u001b[1;36m1\u001b[0m\u001b[1;33m:\u001b[0m\u001b[1;33m\u001b[0m\u001b[1;33m\u001b[0m\u001b[0m\n\u001b[0;32m    271\u001b[0m             \u001b[1;32mreturn\u001b[0m \u001b[0mFloatObject\u001b[0m\u001b[1;33m(\u001b[0m\u001b[0mnum\u001b[0m\u001b[1;33m)\u001b[0m\u001b[1;33m\u001b[0m\u001b[1;33m\u001b[0m\u001b[0m\n",
      "\u001b[1;32m~\\AppData\\Local\\Continuum\\anaconda3\\lib\\site-packages\\PyPDF2\\utils.py\u001b[0m in \u001b[0;36mreadUntilRegex\u001b[1;34m(stream, regex, ignore_eof)\u001b[0m\n\u001b[0;32m    137\u001b[0m             \u001b[0mname\u001b[0m \u001b[1;33m+=\u001b[0m \u001b[0mtok\u001b[0m\u001b[1;33m[\u001b[0m\u001b[1;33m:\u001b[0m\u001b[0mm\u001b[0m\u001b[1;33m.\u001b[0m\u001b[0mstart\u001b[0m\u001b[1;33m(\u001b[0m\u001b[1;33m)\u001b[0m\u001b[1;33m]\u001b[0m\u001b[1;33m\u001b[0m\u001b[1;33m\u001b[0m\u001b[0m\n\u001b[0;32m    138\u001b[0m             \u001b[0mstream\u001b[0m\u001b[1;33m.\u001b[0m\u001b[0mseek\u001b[0m\u001b[1;33m(\u001b[0m\u001b[0mm\u001b[0m\u001b[1;33m.\u001b[0m\u001b[0mstart\u001b[0m\u001b[1;33m(\u001b[0m\u001b[1;33m)\u001b[0m\u001b[1;33m-\u001b[0m\u001b[0mlen\u001b[0m\u001b[1;33m(\u001b[0m\u001b[0mtok\u001b[0m\u001b[1;33m)\u001b[0m\u001b[1;33m,\u001b[0m \u001b[1;36m1\u001b[0m\u001b[1;33m)\u001b[0m\u001b[1;33m\u001b[0m\u001b[1;33m\u001b[0m\u001b[0m\n\u001b[1;32m--> 139\u001b[1;33m             \u001b[1;32mbreak\u001b[0m\u001b[1;33m\u001b[0m\u001b[1;33m\u001b[0m\u001b[0m\n\u001b[0m\u001b[0;32m    140\u001b[0m         \u001b[0mname\u001b[0m \u001b[1;33m+=\u001b[0m \u001b[0mtok\u001b[0m\u001b[1;33m\u001b[0m\u001b[1;33m\u001b[0m\u001b[0m\n\u001b[0;32m    141\u001b[0m     \u001b[1;32mreturn\u001b[0m \u001b[0mname\u001b[0m\u001b[1;33m\u001b[0m\u001b[1;33m\u001b[0m\u001b[0m\n",
      "\u001b[1;31mKeyboardInterrupt\u001b[0m: "
     ]
    }
   ],
   "source": [
    "# Convert .pdf to .txt function\n",
    "pdfDir = 'PDF'\n",
    "errorFile = open('PDF Errors.txt', 'a', encoding=\"utf-8\")\n",
    "errorFile.write(\"\\n\\n-----RUN 2-----\")\n",
    "# fileName = 'ArtificialCreativity.pdf'\n",
    "for entity in os.scandir(pdfDir):\n",
    "    fileName = entity.name[:-4]\n",
    "    if fileName +'.txt' not in os.scandir(txtDir):\n",
    "        print(\"Now on '\"+entity.name+\"' . . .\")\n",
    "        pdfFileObject = open(pdfDir+'/'+entity.name, 'rb')\n",
    "\n",
    "        # ISSUE: Some documents are password protected and text cannot be extracted\n",
    "        try:\n",
    "            pdfReader = PyPDF2.PdfFileReader(pdfFileObject)\n",
    "            \n",
    "            # Create after errors\n",
    "            textFile = open(txtDir+'/'+fileName+'.txt', 'a+', encoding=\"utf-8\")\n",
    "            numPages = pdfReader.getNumPages()\n",
    "            i = 0;\n",
    "            while i < numPages:\n",
    "                pageObject = pdfReader.getPage(i)\n",
    "                textFile.write(pageObject.extractText())\n",
    "                i = i + 1\n",
    "            textFile.close()\n",
    "        except TypeError:\n",
    "            errorFile.write(\"\\nTypeError: \" + entity.name)\n",
    "        except PyPDF2.utils.PdfReadError:\n",
    "            errorFile.write(\"\\nPdfReadError: \" + entity.name)\n",
    "        except OSError:\n",
    "            errorFile.write(\"\\nOSError: \" + entity.name)\n",
    "        except decimal.InvalidOperation:\n",
    "            errorFile.write(\"\\nInvalidOperation: \" + entity.name)\n",
    "        pdfFileObject.close()\n",
    "\n",
    "errorFile.close()\n",
    "    "
   ]
  },
  {
   "cell_type": "code",
   "execution_count": null,
   "metadata": {},
   "outputs": [],
   "source": [
    "pdfFileObject.close()\n",
    "textFile.close()"
   ]
  },
  {
   "cell_type": "code",
   "execution_count": null,
   "metadata": {},
   "outputs": [],
   "source": [
    "# Preprocessing one document at a time or all at once??\n",
    "# Function to remove punctuation (what about separating sentences??)\n",
    "\n",
    "# Work on 10 (good) files at a time until pipeline works\n",
    "#   the incrementally add files and clean up errors\n",
    "\n",
    "# Function to remove \\n\n",
    "\n",
    "# Funtion to remove files without spaces (add names to text file)\n",
    "\n",
    "# Function to remove stopwords\n",
    "\n",
    "# Function to stem words"
   ]
  },
  {
   "cell_type": "code",
   "execution_count": null,
   "metadata": {},
   "outputs": [],
   "source": [
    "# Calculate coding similarity score for each document"
   ]
  },
  {
   "cell_type": "code",
   "execution_count": null,
   "metadata": {},
   "outputs": [],
   "source": [
    "# Trigram parser-based inverted file \n",
    "# (TF-DIF to remove trigrams common to most or all documents)"
   ]
  },
  {
   "cell_type": "code",
   "execution_count": null,
   "metadata": {},
   "outputs": [],
   "source": [
    "# Clustering algorithm based on trigram inverted file"
   ]
  },
  {
   "cell_type": "code",
   "execution_count": null,
   "metadata": {},
   "outputs": [],
   "source": [
    "# Add bigram parser-based info to inverted file"
   ]
  },
  {
   "cell_type": "code",
   "execution_count": null,
   "metadata": {},
   "outputs": [],
   "source": [
    "# Implement clustering on bigram inverted file"
   ]
  }
 ],
 "metadata": {
  "kernelspec": {
   "display_name": "Python 3",
   "language": "python",
   "name": "python3"
  },
  "language_info": {
   "codemirror_mode": {
    "name": "ipython",
    "version": 3
   },
   "file_extension": ".py",
   "mimetype": "text/x-python",
   "name": "python",
   "nbconvert_exporter": "python",
   "pygments_lexer": "ipython3",
   "version": "3.7.7"
  }
 },
 "nbformat": 4,
 "nbformat_minor": 4
}
